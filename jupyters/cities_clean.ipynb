{
 "cells": [
  {
   "cell_type": "code",
   "execution_count": 1,
   "metadata": {},
   "outputs": [],
   "source": [
    "# importaciones\n",
    "import pandas as pd\n",
    "import numpy as np\n",
    "\n",
    "import os\n",
    "import sys\n",
    "\n",
    "ruta = r\"c:\\Users\\antonio\\Desktop\\Proyecto_Final_Data\\src\"  # Ruta a src\n",
    "sys.path.append(ruta)  \n",
    "import sp_limpieza\n",
    "\n",
    "from sp_limpieza import limpiar_nombres_columnas \n",
    "from sp_limpieza import valores_unicos"
   ]
  },
  {
   "cell_type": "code",
   "execution_count": 2,
   "metadata": {},
   "outputs": [],
   "source": [
    "# carga y lectura de archivos(cities)\n",
    "ruta = \"../data/data_raw/cities.csv\"\n",
    "df_cities_raw = pd.read_csv(ruta)"
   ]
  },
  {
   "cell_type": "code",
   "execution_count": 3,
   "metadata": {},
   "outputs": [],
   "source": [
    "#creamos copia entes empezar la limpieza y transformacion\n",
    "df_cities = df_cities_raw.copy()  "
   ]
  },
  {
   "cell_type": "code",
   "execution_count": 4,
   "metadata": {},
   "outputs": [
    {
     "name": "stdout",
     "output_type": "stream",
     "text": [
      "(96, 4)\n",
      "<class 'pandas.core.frame.DataFrame'>\n",
      "RangeIndex: 96 entries, 0 to 95\n",
      "Data columns (total 4 columns):\n",
      " #   Column     Non-Null Count  Dtype \n",
      "---  ------     --------------  ----- \n",
      " 0   CityID     96 non-null     int64 \n",
      " 1   CityName   96 non-null     object\n",
      " 2   Zipcode    96 non-null     int64 \n",
      " 3   CountryID  96 non-null     int64 \n",
      "dtypes: int64(3), object(1)\n",
      "memory usage: 3.1+ KB\n"
     ]
    },
    {
     "data": {
      "text/html": [
       "<div>\n",
       "<style scoped>\n",
       "    .dataframe tbody tr th:only-of-type {\n",
       "        vertical-align: middle;\n",
       "    }\n",
       "\n",
       "    .dataframe tbody tr th {\n",
       "        vertical-align: top;\n",
       "    }\n",
       "\n",
       "    .dataframe thead th {\n",
       "        text-align: right;\n",
       "    }\n",
       "</style>\n",
       "<table border=\"1\" class=\"dataframe\">\n",
       "  <thead>\n",
       "    <tr style=\"text-align: right;\">\n",
       "      <th></th>\n",
       "      <th>CityID</th>\n",
       "      <th>CityName</th>\n",
       "      <th>Zipcode</th>\n",
       "      <th>CountryID</th>\n",
       "    </tr>\n",
       "  </thead>\n",
       "  <tbody>\n",
       "    <tr>\n",
       "      <th>0</th>\n",
       "      <td>1</td>\n",
       "      <td>Dayton</td>\n",
       "      <td>80563</td>\n",
       "      <td>32</td>\n",
       "    </tr>\n",
       "    <tr>\n",
       "      <th>1</th>\n",
       "      <td>2</td>\n",
       "      <td>Buffalo</td>\n",
       "      <td>17420</td>\n",
       "      <td>32</td>\n",
       "    </tr>\n",
       "    <tr>\n",
       "      <th>2</th>\n",
       "      <td>3</td>\n",
       "      <td>Chicago</td>\n",
       "      <td>44751</td>\n",
       "      <td>32</td>\n",
       "    </tr>\n",
       "    <tr>\n",
       "      <th>3</th>\n",
       "      <td>4</td>\n",
       "      <td>Fremont</td>\n",
       "      <td>20641</td>\n",
       "      <td>32</td>\n",
       "    </tr>\n",
       "    <tr>\n",
       "      <th>4</th>\n",
       "      <td>5</td>\n",
       "      <td>Virginia Beach</td>\n",
       "      <td>62389</td>\n",
       "      <td>32</td>\n",
       "    </tr>\n",
       "  </tbody>\n",
       "</table>\n",
       "</div>"
      ],
      "text/plain": [
       "   CityID        CityName  Zipcode  CountryID\n",
       "0       1          Dayton    80563         32\n",
       "1       2         Buffalo    17420         32\n",
       "2       3         Chicago    44751         32\n",
       "3       4         Fremont    20641         32\n",
       "4       5  Virginia Beach    62389         32"
      ]
     },
     "execution_count": 4,
     "metadata": {},
     "output_type": "execute_result"
    }
   ],
   "source": [
    "print(df_cities.shape)  # Devuelve (filas, columnas)\n",
    "df_cities.info() # Muestra informacion general\n",
    "df_cities.head() # Muestra las primeras filas"
   ]
  },
  {
   "cell_type": "code",
   "execution_count": 5,
   "metadata": {},
   "outputs": [
    {
     "name": "stdout",
     "output_type": "stream",
     "text": [
      "Duplicados en CityID: 0\n",
      "Duplicados en CityName: 0\n"
     ]
    }
   ],
   "source": [
    "# Verificar duplicados en CityID\n",
    "print(\"Duplicados en CityID:\", df_cities[\"CityID\"].duplicated().sum())\n",
    "# Verificar duplicados en CityName\n",
    "print(\"Duplicados en CityName:\", df_cities[\"CityName\"].duplicated().sum())\n"
   ]
  },
  {
   "cell_type": "code",
   "execution_count": 6,
   "metadata": {},
   "outputs": [
    {
     "data": {
      "text/plain": [
       "CountryID\n",
       "32    96\n",
       "Name: count, dtype: int64"
      ]
     },
     "execution_count": 6,
     "metadata": {},
     "output_type": "execute_result"
    }
   ],
   "source": [
    "#verificamos que CountryID es siempre el mismo valor y no aporta nada a nuestro df\n",
    "df_cities[\"CountryID\"].value_counts()"
   ]
  },
  {
   "cell_type": "code",
   "execution_count": 7,
   "metadata": {},
   "outputs": [
    {
     "name": "stdout",
     "output_type": "stream",
     "text": [
      "   CityID        CityName  Zipcode\n",
      "0       1          Dayton    80563\n",
      "1       2         Buffalo    17420\n",
      "2       3         Chicago    44751\n",
      "3       4         Fremont    20641\n",
      "4       5  Virginia Beach    62389\n"
     ]
    }
   ],
   "source": [
    "# Eliminamos columna\n",
    "df_cities = df_cities.drop(columns=[\"CountryID\"])\n",
    "print(df_cities.head())  # Verificamos que ya no esté\n"
   ]
  },
  {
   "cell_type": "code",
   "execution_count": 8,
   "metadata": {},
   "outputs": [
    {
     "name": "stdout",
     "output_type": "stream",
     "text": [
      "CityID       int64\n",
      "CityName    object\n",
      "Zipcode     object\n",
      "dtype: object\n"
     ]
    }
   ],
   "source": [
    "# El codigo postal esta como int y deberia ser un str (son identificadores, no valores numéricos)\n",
    "df_cities[\"Zipcode\"] = df_cities[\"Zipcode\"].astype(str)\n",
    "# Verificar el cambio\n",
    "print(df_cities.dtypes)\n"
   ]
  },
  {
   "cell_type": "code",
   "execution_count": 9,
   "metadata": {},
   "outputs": [
    {
     "data": {
      "text/html": [
       "<div>\n",
       "<style scoped>\n",
       "    .dataframe tbody tr th:only-of-type {\n",
       "        vertical-align: middle;\n",
       "    }\n",
       "\n",
       "    .dataframe tbody tr th {\n",
       "        vertical-align: top;\n",
       "    }\n",
       "\n",
       "    .dataframe thead th {\n",
       "        text-align: right;\n",
       "    }\n",
       "</style>\n",
       "<table border=\"1\" class=\"dataframe\">\n",
       "  <thead>\n",
       "    <tr style=\"text-align: right;\">\n",
       "      <th></th>\n",
       "      <th>City_Id</th>\n",
       "      <th>City_Name</th>\n",
       "      <th>Zipcode</th>\n",
       "    </tr>\n",
       "  </thead>\n",
       "  <tbody>\n",
       "    <tr>\n",
       "      <th>0</th>\n",
       "      <td>1</td>\n",
       "      <td>Dayton</td>\n",
       "      <td>80563</td>\n",
       "    </tr>\n",
       "    <tr>\n",
       "      <th>1</th>\n",
       "      <td>2</td>\n",
       "      <td>Buffalo</td>\n",
       "      <td>17420</td>\n",
       "    </tr>\n",
       "    <tr>\n",
       "      <th>2</th>\n",
       "      <td>3</td>\n",
       "      <td>Chicago</td>\n",
       "      <td>44751</td>\n",
       "    </tr>\n",
       "    <tr>\n",
       "      <th>3</th>\n",
       "      <td>4</td>\n",
       "      <td>Fremont</td>\n",
       "      <td>20641</td>\n",
       "    </tr>\n",
       "    <tr>\n",
       "      <th>4</th>\n",
       "      <td>5</td>\n",
       "      <td>Virginia Beach</td>\n",
       "      <td>62389</td>\n",
       "    </tr>\n",
       "  </tbody>\n",
       "</table>\n",
       "</div>"
      ],
      "text/plain": [
       "   City_Id       City_Name Zipcode\n",
       "0        1          Dayton   80563\n",
       "1        2         Buffalo   17420\n",
       "2        3         Chicago   44751\n",
       "3        4         Fremont   20641\n",
       "4        5  Virginia Beach   62389"
      ]
     },
     "execution_count": 9,
     "metadata": {},
     "output_type": "execute_result"
    }
   ],
   "source": [
    "df_cities = limpiar_nombres_columnas(df_cities)\n",
    "df_cities.head()"
   ]
  },
  {
   "cell_type": "code",
   "execution_count": 10,
   "metadata": {},
   "outputs": [
    {
     "name": "stdout",
     "output_type": "stream",
     "text": [
      "🔹 Valores únicos en 'City_Id':\n",
      "[ 1  2  3  4  5  6  7  8  9 10 11 12 13 14 15 16 17 18 19 20 21 22 23 24\n",
      " 25 26 27 28 29 30 31 32 33 34 35 36 37 38 39 40 41 42 43 44 45 46 47 48\n",
      " 49 50 51 52 53 54 55 56 57 58 59 60 61 62 63 64 65 66 67 68 69 70 71 72\n",
      " 73 74 75 76 77 78 79 80 81 82 83 84 85 86 87 88 89 90 91 92 93 94 95 96] \n",
      "\n",
      "🔹 Valores únicos en 'City_Name':\n",
      "['Dayton' 'Buffalo' 'Chicago' 'Fremont' 'Virginia Beach' 'Austin'\n",
      " 'Riverside' 'Arlington' 'Atlanta' 'Toledo' 'Spokane' 'Tacoma' 'Akron'\n",
      " 'Indianapolis' 'Colorado' 'Norfolk' 'St. Louis' 'Little Rock' 'Omaha'\n",
      " 'El Paso' 'Milwaukee' 'Baton Rouge' 'Anaheim' 'Lincoln' 'Boston'\n",
      " 'Des Moines' 'Mesa' 'Tucson' 'Washington' 'Philadelphia' 'Wichita'\n",
      " 'Jackson' 'Minneapolis' 'Fort Wayne' 'Greensboro' 'Detroit' 'Fresno'\n",
      " 'Richmond' 'Lubbock' 'Cleveland' 'Bakersfield' 'Denver' 'Glendale'\n",
      " 'Memphis' 'Dallas' 'New York' 'San Francisco' 'Long Beach' 'Montgomery'\n",
      " 'Cincinnati' 'Portland' 'Madison' 'Las Vegas' 'Albuquerque' 'Houston'\n",
      " 'Stockton' 'Nashville' 'Columbus' 'Kansas' 'Fort Worth' 'Miami' 'Mobile'\n",
      " 'Tulsa' 'Raleigh' 'Baltimore' 'Shreveport' 'Corpus Christi' 'Anchorage'\n",
      " 'Oakland' 'Rochester' 'Phoenix' 'Honolulu' 'Santa Ana' 'Tampa'\n",
      " 'San Antonio' 'Birmingham' 'Louisville' 'San Diego' 'Oklahoma'\n",
      " 'New Orleans' 'Sacramento' 'Charlotte' 'Aurora' 'Newark' 'St. Petersburg'\n",
      " 'San Jose' 'Los Angeles' 'Seattle' 'St. Paul' 'Grand Rapids'\n",
      " 'Jacksonville' 'Hialeah' 'Jersey' 'Yonkers' 'Garland' 'Pittsburgh'] \n",
      "\n",
      "🔹 Valores únicos en 'Zipcode':\n",
      "['80563' '17420' '44751' '20641' '62389' '781' '1439' '12654' '66212'\n",
      " '52048' '38103' '43085' '83448' '81678' '88609' '88825' '19382' '81251'\n",
      " '24733' '95963' '78846' '21874' '21500' '95386' '59548' '40742' '60852'\n",
      " '34760' '63454' '17498' '93028' '40971' '95451' '48982' '35659' '72819'\n",
      " '90795' '72757' '58464' '51352' '13915' '18752' '32198' '73999' '20151'\n",
      " '17104' '157' '97859' '8944' '83634' '79636' '14626' '90989' '55358'\n",
      " '95800' '46777' '60874' '87987' '56647' '41769' '6794' '78861' '69923'\n",
      " '20327' '89197' '82101' '78414' '29493' '29029' '415' '84193' '93782'\n",
      " '23419' '81280' '3863' '14935' '4409' '83701' '40472' '35640' '81966'\n",
      " '39774' '40050' '31536' '88713' '45666' '63756' '20135' '77998' '70862'\n",
      " '68274' '34375' '55355' '7430' '73265' '14257'] \n",
      "\n"
     ]
    }
   ],
   "source": [
    "valores_unicos(df_cities)"
   ]
  },
  {
   "cell_type": "code",
   "execution_count": 11,
   "metadata": {},
   "outputs": [
    {
     "data": {
      "text/html": [
       "<div>\n",
       "<style scoped>\n",
       "    .dataframe tbody tr th:only-of-type {\n",
       "        vertical-align: middle;\n",
       "    }\n",
       "\n",
       "    .dataframe tbody tr th {\n",
       "        vertical-align: top;\n",
       "    }\n",
       "\n",
       "    .dataframe thead th {\n",
       "        text-align: right;\n",
       "    }\n",
       "</style>\n",
       "<table border=\"1\" class=\"dataframe\">\n",
       "  <thead>\n",
       "    <tr style=\"text-align: right;\">\n",
       "      <th></th>\n",
       "      <th>count</th>\n",
       "      <th>mean</th>\n",
       "      <th>std</th>\n",
       "      <th>min</th>\n",
       "      <th>25%</th>\n",
       "      <th>50%</th>\n",
       "      <th>75%</th>\n",
       "      <th>max</th>\n",
       "    </tr>\n",
       "  </thead>\n",
       "  <tbody>\n",
       "    <tr>\n",
       "      <th>City_Id</th>\n",
       "      <td>96.0</td>\n",
       "      <td>48.5</td>\n",
       "      <td>27.856777</td>\n",
       "      <td>1.0</td>\n",
       "      <td>24.75</td>\n",
       "      <td>48.5</td>\n",
       "      <td>72.25</td>\n",
       "      <td>96.0</td>\n",
       "    </tr>\n",
       "  </tbody>\n",
       "</table>\n",
       "</div>"
      ],
      "text/plain": [
       "         count  mean        std  min    25%   50%    75%   max\n",
       "City_Id   96.0  48.5  27.856777  1.0  24.75  48.5  72.25  96.0"
      ]
     },
     "execution_count": 11,
     "metadata": {},
     "output_type": "execute_result"
    }
   ],
   "source": [
    "df_cities.describe().T"
   ]
  },
  {
   "cell_type": "code",
   "execution_count": 12,
   "metadata": {},
   "outputs": [],
   "source": [
    "df_cities.to_csv(\"../data/data_limpios/cities_clean.csv\", index=False)"
   ]
  }
 ],
 "metadata": {
  "kernelspec": {
   "display_name": "venv",
   "language": "python",
   "name": "python3"
  },
  "language_info": {
   "codemirror_mode": {
    "name": "ipython",
    "version": 3
   },
   "file_extension": ".py",
   "mimetype": "text/x-python",
   "name": "python",
   "nbconvert_exporter": "python",
   "pygments_lexer": "ipython3",
   "version": "3.13.0"
  }
 },
 "nbformat": 4,
 "nbformat_minor": 2
}
